{
  "nbformat": 4,
  "nbformat_minor": 0,
  "metadata": {
    "colab": {
      "provenance": [],
      "toc_visible": true
    },
    "kernelspec": {
      "name": "python3",
      "display_name": "Python 3"
    },
    "accelerator": "GPU"
  },
  "cells": [
    {
      "cell_type": "markdown",
      "metadata": {
        "id": "7mGmQbAO5pQb"
      },
      "source": [
        "# Setup\n"
      ]
    },
    {
      "cell_type": "code",
      "metadata": {
        "id": "wbvMlHd_QwMG",
        "colab": {
          "base_uri": "https://localhost:8080/"
        },
        "outputId": "cfd5dfdc-67bc-4159-b67a-89f24639e861"
      },
      "source": [
        "!git clone https://github.com/ultralytics/yolov5  # clone\n",
        "%cd yolov5\n",
        "%pip install -qr requirements.txt  # install\n",
        "\n",
        "import torch\n",
        "import utils\n",
        "display = utils.notebook_init()  # checks"
      ],
      "execution_count": 1,
      "outputs": [
        {
          "output_type": "stream",
          "name": "stderr",
          "text": [
            "YOLOv5 🚀 v7.0-158-g8211a03 Python-3.10.11 torch-2.0.0+cu118 CUDA:0 (Tesla T4, 15102MiB)\n"
          ]
        },
        {
          "output_type": "stream",
          "name": "stdout",
          "text": [
            "Setup complete ✅ (2 CPUs, 12.7 GB RAM, 23.4/78.2 GB disk)\n"
          ]
        }
      ]
    },
    {
      "cell_type": "code",
      "source": [
        "!unzip -q ../train_data.zip -d ../"
      ],
      "metadata": {
        "id": "ixCqWjEIsCVw"
      },
      "execution_count": 2,
      "outputs": []
    },
    {
      "cell_type": "markdown",
      "metadata": {
        "id": "4JnkELT0cIJg"
      },
      "source": [
        "# 1. Detect\n",
        "\n",
        "`detect.py` runs YOLOv5 inference on a variety of sources, downloading models automatically from the [latest YOLOv5 release](https://github.com/ultralytics/yolov5/releases), and saving results to `runs/detect`."
      ]
    },
    {
      "cell_type": "code",
      "metadata": {
        "id": "zR9ZbuQCH7FX",
        "colab": {
          "base_uri": "https://localhost:8080/"
        },
        "outputId": "bd1b5d9d-9b18-4d14-b8c1-3b38e85fbaba"
      },
      "source": [
        "!python detect.py --weights runs/train/exp2/weights/last.pt --img 640 --conf 0.25 --source ../sampleHandgun.mp4\n"
      ],
      "execution_count": 5,
      "outputs": [
        {
          "output_type": "stream",
          "name": "stdout",
          "text": [
            "\u001b[34m\u001b[1mdetect: \u001b[0mweights=['runs/train/exp2/weights/last.pt'], source=../sampleHandgun.mp4, data=data/coco128.yaml, imgsz=[640, 640], conf_thres=0.25, iou_thres=0.45, max_det=1000, device=, view_img=False, save_txt=False, save_conf=False, save_crop=False, nosave=False, classes=None, agnostic_nms=False, augment=False, visualize=False, update=False, project=runs/detect, name=exp, exist_ok=False, line_thickness=3, hide_labels=False, hide_conf=False, half=False, dnn=False, vid_stride=1\n",
            "\u001b[31m\u001b[1mrequirements:\u001b[0m /content/requirements.txt not found, check failed.\n",
            "YOLOv5 🚀 v7.0-158-g8211a03 Python-3.10.11 torch-2.0.0+cu118 CUDA:0 (Tesla T4, 15102MiB)\n",
            "\n",
            "Fusing layers... \n",
            "Model summary: 157 layers, 7020913 parameters, 0 gradients, 15.8 GFLOPs\n",
            "video 1/1 (1/90) /content/sampleHandgun.mp4: 480x640 2 p_heads, 1 person, 48.0ms\n",
            "video 1/1 (2/90) /content/sampleHandgun.mp4: 480x640 2 p_heads, 1 person, 9.0ms\n",
            "video 1/1 (3/90) /content/sampleHandgun.mp4: 480x640 2 p_heads, 1 person, 8.9ms\n",
            "video 1/1 (4/90) /content/sampleHandgun.mp4: 480x640 2 p_heads, 1 person, 8.9ms\n",
            "video 1/1 (5/90) /content/sampleHandgun.mp4: 480x640 2 p_heads, 1 person, 1 weapon, 8.9ms\n",
            "video 1/1 (6/90) /content/sampleHandgun.mp4: 480x640 2 p_heads, 1 person, 1 weapon, 8.9ms\n",
            "video 1/1 (7/90) /content/sampleHandgun.mp4: 480x640 1 p_head, 1 person, 1 weapon, 8.9ms\n",
            "video 1/1 (8/90) /content/sampleHandgun.mp4: 480x640 2 p_heads, 1 person, 1 weapon, 8.9ms\n",
            "video 1/1 (9/90) /content/sampleHandgun.mp4: 480x640 2 p_heads, 1 person, 1 weapon, 8.9ms\n",
            "video 1/1 (10/90) /content/sampleHandgun.mp4: 480x640 2 p_heads, 1 person, 1 weapon, 8.9ms\n",
            "video 1/1 (11/90) /content/sampleHandgun.mp4: 480x640 2 p_heads, 1 person, 1 weapon, 8.9ms\n",
            "video 1/1 (12/90) /content/sampleHandgun.mp4: 480x640 2 p_heads, 1 person, 1 weapon, 8.9ms\n",
            "video 1/1 (13/90) /content/sampleHandgun.mp4: 480x640 2 p_heads, 1 person, 1 weapon, 8.9ms\n",
            "video 1/1 (14/90) /content/sampleHandgun.mp4: 480x640 2 p_heads, 1 person, 1 weapon, 9.5ms\n",
            "video 1/1 (15/90) /content/sampleHandgun.mp4: 480x640 2 p_heads, 1 person, 1 weapon, 8.9ms\n",
            "video 1/1 (16/90) /content/sampleHandgun.mp4: 480x640 1 p_head, 1 person, 1 weapon, 8.9ms\n",
            "video 1/1 (17/90) /content/sampleHandgun.mp4: 480x640 1 p_head, 1 person, 1 weapon, 8.9ms\n",
            "video 1/1 (18/90) /content/sampleHandgun.mp4: 480x640 2 p_heads, 1 person, 1 weapon, 9.5ms\n",
            "video 1/1 (19/90) /content/sampleHandgun.mp4: 480x640 2 p_heads, 1 person, 8.9ms\n",
            "video 1/1 (20/90) /content/sampleHandgun.mp4: 480x640 1 p_head, 1 person, 6.2ms\n",
            "video 1/1 (21/90) /content/sampleHandgun.mp4: 480x640 1 p_head, 1 person, 6.1ms\n",
            "video 1/1 (22/90) /content/sampleHandgun.mp4: 480x640 1 p_head, 1 person, 6.1ms\n",
            "video 1/1 (23/90) /content/sampleHandgun.mp4: 480x640 1 p_head, 1 person, 6.1ms\n",
            "video 1/1 (24/90) /content/sampleHandgun.mp4: 480x640 1 p_head, 1 person, 6.1ms\n",
            "video 1/1 (25/90) /content/sampleHandgun.mp4: 480x640 1 p_head, 1 person, 9.5ms\n",
            "video 1/1 (26/90) /content/sampleHandgun.mp4: 480x640 1 p_head, 1 person, 7.1ms\n",
            "video 1/1 (27/90) /content/sampleHandgun.mp4: 480x640 1 p_head, 1 person, 6.1ms\n",
            "video 1/1 (28/90) /content/sampleHandgun.mp4: 480x640 1 p_head, 1 person, 6.1ms\n",
            "video 1/1 (29/90) /content/sampleHandgun.mp4: 480x640 1 p_head, 1 person, 6.1ms\n",
            "video 1/1 (30/90) /content/sampleHandgun.mp4: 480x640 1 p_head, 1 person, 6.1ms\n",
            "video 1/1 (31/90) /content/sampleHandgun.mp4: 480x640 2 p_heads, 1 person, 6.1ms\n",
            "video 1/1 (32/90) /content/sampleHandgun.mp4: 480x640 2 p_heads, 1 person, 6.1ms\n",
            "video 1/1 (33/90) /content/sampleHandgun.mp4: 480x640 2 p_heads, 1 person, 6.1ms\n",
            "video 1/1 (34/90) /content/sampleHandgun.mp4: 480x640 2 p_heads, 1 person, 8.9ms\n",
            "video 1/1 (35/90) /content/sampleHandgun.mp4: 480x640 2 p_heads, 1 person, 6.1ms\n",
            "video 1/1 (36/90) /content/sampleHandgun.mp4: 480x640 2 p_heads, 1 person, 5.9ms\n",
            "video 1/1 (37/90) /content/sampleHandgun.mp4: 480x640 2 p_heads, 1 person, 5.6ms\n",
            "video 1/1 (38/90) /content/sampleHandgun.mp4: 480x640 2 p_heads, 1 person, 5.6ms\n",
            "video 1/1 (39/90) /content/sampleHandgun.mp4: 480x640 2 p_heads, 1 person, 5.9ms\n",
            "video 1/1 (40/90) /content/sampleHandgun.mp4: 480x640 2 p_heads, 1 person, 5.6ms\n",
            "video 1/1 (41/90) /content/sampleHandgun.mp4: 480x640 2 p_heads, 1 person, 5.6ms\n",
            "video 1/1 (42/90) /content/sampleHandgun.mp4: 480x640 2 p_heads, 1 person, 6.2ms\n",
            "video 1/1 (43/90) /content/sampleHandgun.mp4: 480x640 2 p_heads, 1 person, 6.7ms\n",
            "video 1/1 (44/90) /content/sampleHandgun.mp4: 480x640 2 p_heads, 1 person, 5.7ms\n",
            "video 1/1 (45/90) /content/sampleHandgun.mp4: 480x640 1 p_head, 1 person, 5.6ms\n",
            "video 1/1 (46/90) /content/sampleHandgun.mp4: 480x640 1 p_head, 1 person, 6.3ms\n",
            "video 1/1 (47/90) /content/sampleHandgun.mp4: 480x640 1 p_head, 1 person, 5.9ms\n",
            "video 1/1 (48/90) /content/sampleHandgun.mp4: 480x640 2 p_heads, 1 person, 6.0ms\n",
            "video 1/1 (49/90) /content/sampleHandgun.mp4: 480x640 2 p_heads, 1 person, 8.3ms\n",
            "video 1/1 (50/90) /content/sampleHandgun.mp4: 480x640 2 p_heads, 1 person, 5.7ms\n",
            "video 1/1 (51/90) /content/sampleHandgun.mp4: 480x640 2 p_heads, 1 person, 5.9ms\n",
            "video 1/1 (52/90) /content/sampleHandgun.mp4: 480x640 1 p_head, 1 person, 5.7ms\n",
            "video 1/1 (53/90) /content/sampleHandgun.mp4: 480x640 1 p_head, 1 person, 5.9ms\n",
            "video 1/1 (54/90) /content/sampleHandgun.mp4: 480x640 1 p_head, 1 person, 5.6ms\n",
            "video 1/1 (55/90) /content/sampleHandgun.mp4: 480x640 1 p_head, 1 person, 5.6ms\n",
            "video 1/1 (56/90) /content/sampleHandgun.mp4: 480x640 1 p_head, 1 person, 7.0ms\n",
            "video 1/1 (57/90) /content/sampleHandgun.mp4: 480x640 1 p_head, 1 person, 6.0ms\n",
            "video 1/1 (58/90) /content/sampleHandgun.mp4: 480x640 1 p_head, 1 person, 6.0ms\n",
            "video 1/1 (59/90) /content/sampleHandgun.mp4: 480x640 1 p_head, 1 person, 6.5ms\n",
            "video 1/1 (60/90) /content/sampleHandgun.mp4: 480x640 1 p_head, 1 person, 5.8ms\n",
            "video 1/1 (61/90) /content/sampleHandgun.mp4: 480x640 1 p_head, 1 person, 5.6ms\n",
            "video 1/1 (62/90) /content/sampleHandgun.mp4: 480x640 1 p_head, 1 person, 5.8ms\n",
            "video 1/1 (63/90) /content/sampleHandgun.mp4: 480x640 1 p_head, 1 person, 5.6ms\n",
            "video 1/1 (64/90) /content/sampleHandgun.mp4: 480x640 1 p_head, 1 person, 5.7ms\n",
            "video 1/1 (65/90) /content/sampleHandgun.mp4: 480x640 1 p_head, 1 person, 5.9ms\n",
            "video 1/1 (66/90) /content/sampleHandgun.mp4: 480x640 1 p_head, 1 person, 5.9ms\n",
            "video 1/1 (67/90) /content/sampleHandgun.mp4: 480x640 1 p_head, 1 person, 5.8ms\n",
            "video 1/1 (68/90) /content/sampleHandgun.mp4: 480x640 1 p_head, 1 person, 6.3ms\n",
            "video 1/1 (69/90) /content/sampleHandgun.mp4: 480x640 1 p_head, 1 person, 5.8ms\n",
            "video 1/1 (70/90) /content/sampleHandgun.mp4: 480x640 1 p_head, 1 person, 5.7ms\n",
            "video 1/1 (71/90) /content/sampleHandgun.mp4: 480x640 2 p_heads, 1 person, 5.8ms\n",
            "video 1/1 (72/90) /content/sampleHandgun.mp4: 480x640 2 p_heads, 1 person, 5.7ms\n",
            "video 1/1 (73/90) /content/sampleHandgun.mp4: 480x640 2 p_heads, 1 person, 5.8ms\n",
            "video 1/1 (74/90) /content/sampleHandgun.mp4: 480x640 2 p_heads, 1 person, 6.2ms\n",
            "video 1/1 (75/90) /content/sampleHandgun.mp4: 480x640 2 p_heads, 1 person, 5.7ms\n",
            "video 1/1 (76/90) /content/sampleHandgun.mp4: 480x640 2 p_heads, 1 person, 5.7ms\n",
            "video 1/1 (77/90) /content/sampleHandgun.mp4: 480x640 2 p_heads, 8.3ms\n",
            "video 1/1 (78/90) /content/sampleHandgun.mp4: 480x640 2 p_heads, 1 person, 5.8ms\n",
            "video 1/1 (79/90) /content/sampleHandgun.mp4: 480x640 2 p_heads, 1 person, 6.0ms\n",
            "video 1/1 (80/90) /content/sampleHandgun.mp4: 480x640 2 p_heads, 1 person, 6.8ms\n",
            "video 1/1 (81/90) /content/sampleHandgun.mp4: 480x640 2 p_heads, 1 person, 5.8ms\n",
            "video 1/1 (82/90) /content/sampleHandgun.mp4: 480x640 1 p_head, 1 person, 5.7ms\n",
            "video 1/1 (83/90) /content/sampleHandgun.mp4: 480x640 1 p_head, 1 person, 7.8ms\n",
            "video 1/1 (84/90) /content/sampleHandgun.mp4: 480x640 1 p_head, 1 person, 5.8ms\n",
            "video 1/1 (85/90) /content/sampleHandgun.mp4: 480x640 1 p_head, 1 person, 6.3ms\n",
            "video 1/1 (86/90) /content/sampleHandgun.mp4: 480x640 1 p_head, 1 person, 6.2ms\n",
            "video 1/1 (87/90) /content/sampleHandgun.mp4: 480x640 1 p_head, 1 person, 5.8ms\n",
            "video 1/1 (88/90) /content/sampleHandgun.mp4: 480x640 1 p_head, 1 person, 5.7ms\n",
            "video 1/1 (89/90) /content/sampleHandgun.mp4: 480x640 1 p_head, 1 person, 5.7ms\n",
            "video 1/1 (90/90) /content/sampleHandgun.mp4: 480x640 1 p_head, 1 person, 5.7ms\n",
            "Speed: 0.4ms pre-process, 7.2ms inference, 2.3ms NMS per image at shape (1, 3, 640, 640)\n",
            "Results saved to \u001b[1mruns/detect/exp\u001b[0m\n"
          ]
        }
      ]
    },
    {
      "cell_type": "markdown",
      "metadata": {
        "id": "0eq1SMWl6Sfn"
      },
      "source": [
        "# 2. Validate\n",
        "Validate a model's accuracy on the [COCO](https://cocodataset.org/#home) dataset's `val` or `test` splits. Models are downloaded automatically from the [latest YOLOv5 release](https://github.com/ultralytics/yolov5/releases). To show results by class use the `--verbose` flag."
      ]
    },
    {
      "cell_type": "code",
      "metadata": {
        "id": "WQPtK1QYVaD_",
        "colab": {
          "base_uri": "https://localhost:8080/"
        },
        "outputId": "cf7d52f0-281c-4c96-a488-79f5908f8426"
      },
      "source": [
        "# Download COCO val\n",
        "torch.hub.download_url_to_file('https://ultralytics.com/assets/coco2017val.zip', 'tmp.zip')  # download (780M - 5000 images)\n",
        "!unzip -q tmp.zip -d ../datasets && rm tmp.zip  # unzip"
      ],
      "execution_count": null,
      "outputs": [
        {
          "output_type": "stream",
          "name": "stderr",
          "text": [
            "100%|██████████| 780M/780M [00:12<00:00, 66.6MB/s]\n"
          ]
        }
      ]
    },
    {
      "cell_type": "code",
      "metadata": {
        "id": "X58w8JLpMnjH",
        "colab": {
          "base_uri": "https://localhost:8080/"
        },
        "outputId": "3e234e05-ee8b-4ad1-b1a4-f6a55d5e4f3d"
      },
      "source": [
        "# Validate YOLOv5s on COCO val\n",
        "!python val.py --weights yolov5s.pt --data coco.yaml --img 640 --half"
      ],
      "execution_count": null,
      "outputs": [
        {
          "output_type": "stream",
          "name": "stdout",
          "text": [
            "\u001b[34m\u001b[1mval: \u001b[0mdata=/content/yolov5/data/coco.yaml, weights=['yolov5s.pt'], batch_size=32, imgsz=640, conf_thres=0.001, iou_thres=0.6, max_det=300, task=val, device=, workers=8, single_cls=False, augment=False, verbose=False, save_txt=False, save_hybrid=False, save_conf=False, save_json=True, project=runs/val, name=exp, exist_ok=False, half=True, dnn=False\n",
            "YOLOv5 🚀 v7.0-136-g71244ae Python-3.9.16 torch-2.0.0+cu118 CUDA:0 (Tesla T4, 15102MiB)\n",
            "\n",
            "Fusing layers... \n",
            "YOLOv5s summary: 213 layers, 7225885 parameters, 0 gradients\n",
            "\u001b[34m\u001b[1mval: \u001b[0mScanning /content/datasets/coco/val2017... 4952 images, 48 backgrounds, 0 corrupt: 100% 5000/5000 [00:02<00:00, 2024.59it/s]\n",
            "\u001b[34m\u001b[1mval: \u001b[0mNew cache created: /content/datasets/coco/val2017.cache\n",
            "                 Class     Images  Instances          P          R      mAP50   mAP50-95: 100% 157/157 [01:25<00:00,  1.84it/s]\n",
            "                   all       5000      36335      0.671      0.519      0.566      0.371\n",
            "Speed: 0.1ms pre-process, 3.1ms inference, 2.3ms NMS per image at shape (32, 3, 640, 640)\n",
            "\n",
            "Evaluating pycocotools mAP... saving runs/val/exp/yolov5s_predictions.json...\n",
            "loading annotations into memory...\n",
            "Done (t=0.43s)\n",
            "creating index...\n",
            "index created!\n",
            "Loading and preparing results...\n",
            "DONE (t=5.32s)\n",
            "creating index...\n",
            "index created!\n",
            "Running per image evaluation...\n",
            "Evaluate annotation type *bbox*\n",
            "DONE (t=78.89s).\n",
            "Accumulating evaluation results...\n",
            "DONE (t=14.51s).\n",
            " Average Precision  (AP) @[ IoU=0.50:0.95 | area=   all | maxDets=100 ] = 0.374\n",
            " Average Precision  (AP) @[ IoU=0.50      | area=   all | maxDets=100 ] = 0.572\n",
            " Average Precision  (AP) @[ IoU=0.75      | area=   all | maxDets=100 ] = 0.402\n",
            " Average Precision  (AP) @[ IoU=0.50:0.95 | area= small | maxDets=100 ] = 0.211\n",
            " Average Precision  (AP) @[ IoU=0.50:0.95 | area=medium | maxDets=100 ] = 0.423\n",
            " Average Precision  (AP) @[ IoU=0.50:0.95 | area= large | maxDets=100 ] = 0.489\n",
            " Average Recall     (AR) @[ IoU=0.50:0.95 | area=   all | maxDets=  1 ] = 0.311\n",
            " Average Recall     (AR) @[ IoU=0.50:0.95 | area=   all | maxDets= 10 ] = 0.516\n",
            " Average Recall     (AR) @[ IoU=0.50:0.95 | area=   all | maxDets=100 ] = 0.566\n",
            " Average Recall     (AR) @[ IoU=0.50:0.95 | area= small | maxDets=100 ] = 0.378\n",
            " Average Recall     (AR) @[ IoU=0.50:0.95 | area=medium | maxDets=100 ] = 0.625\n",
            " Average Recall     (AR) @[ IoU=0.50:0.95 | area= large | maxDets=100 ] = 0.722\n",
            "Results saved to \u001b[1mruns/val/exp\u001b[0m\n"
          ]
        }
      ]
    },
    {
      "cell_type": "code",
      "metadata": {
        "id": "1NcFxRcFdJ_O",
        "colab": {
          "base_uri": "https://localhost:8080/"
        },
        "outputId": "ab287b89-b02a-4646-8411-c88d5e2ed4b3"
      },
      "source": [
        "# Train YOLOv5s on custom_data for 20 epochs\n",
        "!python train.py --img 640 --batch 16 --epochs 20  --data custom_data.yaml --weights yolov5s.pt --cache"
      ],
      "execution_count": 4,
      "outputs": [
        {
          "output_type": "stream",
          "name": "stdout",
          "text": [
            "\u001b[34m\u001b[1mtrain: \u001b[0mweights=yolov5s.pt, cfg=, data=custom_data.yaml, hyp=data/hyps/hyp.scratch-low.yaml, epochs=20, batch_size=16, imgsz=640, rect=False, resume=False, nosave=False, noval=False, noautoanchor=False, noplots=False, evolve=None, bucket=, cache=ram, image_weights=False, device=, multi_scale=False, single_cls=False, optimizer=SGD, sync_bn=False, workers=8, project=runs/train, name=exp, exist_ok=False, quad=False, cos_lr=False, label_smoothing=0.0, patience=100, freeze=[0], save_period=-1, seed=0, local_rank=-1, entity=None, upload_dataset=False, bbox_interval=-1, artifact_alias=latest\n",
            "\u001b[34m\u001b[1mgithub: \u001b[0mup to date with https://github.com/ultralytics/yolov5 ✅\n",
            "\u001b[31m\u001b[1mrequirements:\u001b[0m /content/requirements.txt not found, check failed.\n",
            "YOLOv5 🚀 v7.0-158-g8211a03 Python-3.10.11 torch-2.0.0+cu118 CUDA:0 (Tesla T4, 15102MiB)\n",
            "\n",
            "\u001b[34m\u001b[1mhyperparameters: \u001b[0mlr0=0.01, lrf=0.01, momentum=0.937, weight_decay=0.0005, warmup_epochs=3.0, warmup_momentum=0.8, warmup_bias_lr=0.1, box=0.05, cls=0.5, cls_pw=1.0, obj=1.0, obj_pw=1.0, iou_t=0.2, anchor_t=4.0, fl_gamma=0.0, hsv_h=0.015, hsv_s=0.7, hsv_v=0.4, degrees=0.0, translate=0.1, scale=0.5, shear=0.0, perspective=0.0, flipud=0.0, fliplr=0.5, mosaic=1.0, mixup=0.0, copy_paste=0.0\n",
            "\u001b[34m\u001b[1mClearML: \u001b[0mrun 'pip install clearml' to automatically track, visualize and remotely train YOLOv5 🚀 in ClearML\n",
            "\u001b[34m\u001b[1mComet: \u001b[0mrun 'pip install comet_ml' to automatically track and visualize YOLOv5 🚀 runs in Comet\n",
            "\u001b[34m\u001b[1mTensorBoard: \u001b[0mStart with 'tensorboard --logdir runs/train', view at http://localhost:6006/\n",
            "Overriding model.yaml nc=80 with nc=4\n",
            "\n",
            "                 from  n    params  module                                  arguments                     \n",
            "  0                -1  1      3520  models.common.Conv                      [3, 32, 6, 2, 2]              \n",
            "  1                -1  1     18560  models.common.Conv                      [32, 64, 3, 2]                \n",
            "  2                -1  1     18816  models.common.C3                        [64, 64, 1]                   \n",
            "  3                -1  1     73984  models.common.Conv                      [64, 128, 3, 2]               \n",
            "  4                -1  2    115712  models.common.C3                        [128, 128, 2]                 \n",
            "  5                -1  1    295424  models.common.Conv                      [128, 256, 3, 2]              \n",
            "  6                -1  3    625152  models.common.C3                        [256, 256, 3]                 \n",
            "  7                -1  1   1180672  models.common.Conv                      [256, 512, 3, 2]              \n",
            "  8                -1  1   1182720  models.common.C3                        [512, 512, 1]                 \n",
            "  9                -1  1    656896  models.common.SPPF                      [512, 512, 5]                 \n",
            " 10                -1  1    131584  models.common.Conv                      [512, 256, 1, 1]              \n",
            " 11                -1  1         0  torch.nn.modules.upsampling.Upsample    [None, 2, 'nearest']          \n",
            " 12           [-1, 6]  1         0  models.common.Concat                    [1]                           \n",
            " 13                -1  1    361984  models.common.C3                        [512, 256, 1, False]          \n",
            " 14                -1  1     33024  models.common.Conv                      [256, 128, 1, 1]              \n",
            " 15                -1  1         0  torch.nn.modules.upsampling.Upsample    [None, 2, 'nearest']          \n",
            " 16           [-1, 4]  1         0  models.common.Concat                    [1]                           \n",
            " 17                -1  1     90880  models.common.C3                        [256, 128, 1, False]          \n",
            " 18                -1  1    147712  models.common.Conv                      [128, 128, 3, 2]              \n",
            " 19          [-1, 14]  1         0  models.common.Concat                    [1]                           \n",
            " 20                -1  1    296448  models.common.C3                        [256, 256, 1, False]          \n",
            " 21                -1  1    590336  models.common.Conv                      [256, 256, 3, 2]              \n",
            " 22          [-1, 10]  1         0  models.common.Concat                    [1]                           \n",
            " 23                -1  1   1182720  models.common.C3                        [512, 512, 1, False]          \n",
            " 24      [17, 20, 23]  1     24273  models.yolo.Detect                      [4, [[10, 13, 16, 30, 33, 23], [30, 61, 62, 45, 59, 119], [116, 90, 156, 198, 373, 326]], [128, 256, 512]]\n",
            "Model summary: 214 layers, 7030417 parameters, 7030417 gradients, 16.0 GFLOPs\n",
            "\n",
            "Transferred 343/349 items from yolov5s.pt\n",
            "\u001b[34m\u001b[1mAMP: \u001b[0mchecks passed ✅\n",
            "\u001b[34m\u001b[1moptimizer:\u001b[0m SGD(lr=0.01) with parameter groups 57 weight(decay=0.0), 60 weight(decay=0.0005), 60 bias\n",
            "\u001b[34m\u001b[1malbumentations: \u001b[0mBlur(p=0.01, blur_limit=(3, 7)), MedianBlur(p=0.01, blur_limit=(3, 7)), ToGray(p=0.01), CLAHE(p=0.01, clip_limit=(1, 4.0), tile_grid_size=(8, 8))\n",
            "\u001b[34m\u001b[1mtrain: \u001b[0mScanning /content/train_data/labels/train.cache... 481 images, 0 backgrounds, 0 corrupt: 100% 481/481 [00:00<?, ?it/s]\n",
            "\u001b[34m\u001b[1mtrain: \u001b[0mCaching images (0.6GB ram): 100% 481/481 [00:02<00:00, 195.30it/s]\n",
            "\u001b[34m\u001b[1mval: \u001b[0mScanning /content/train_data/labels/val.cache... 9 images, 0 backgrounds, 0 corrupt: 100% 9/9 [00:00<?, ?it/s]\n",
            "\u001b[34m\u001b[1mval: \u001b[0mCaching images (0.0GB ram): 100% 9/9 [00:00<00:00, 80.70it/s]\n",
            "\n",
            "\u001b[34m\u001b[1mAutoAnchor: \u001b[0m3.68 anchors/target, 1.000 Best Possible Recall (BPR). Current anchors are a good fit to dataset ✅\n",
            "Plotting labels to runs/train/exp2/labels.jpg... \n",
            "Image sizes 640 train, 640 val\n",
            "Using 2 dataloader workers\n",
            "Logging results to \u001b[1mruns/train/exp2\u001b[0m\n",
            "Starting training for 20 epochs...\n",
            "\n",
            "      Epoch    GPU_mem   box_loss   obj_loss   cls_loss  Instances       Size\n",
            "       0/19      3.51G    0.09916    0.04311    0.04054          6        640: 100% 31/31 [00:14<00:00,  2.21it/s]\n",
            "                 Class     Images  Instances          P          R      mAP50   mAP50-95: 100% 1/1 [00:00<00:00,  3.86it/s]\n",
            "                   all          9         28      0.589     0.0833      0.167     0.0874\n",
            "\n",
            "      Epoch    GPU_mem   box_loss   obj_loss   cls_loss  Instances       Size\n",
            "       1/19      3.51G    0.06885    0.04189    0.02943          2        640: 100% 31/31 [00:08<00:00,  3.54it/s]\n",
            "                 Class     Images  Instances          P          R      mAP50   mAP50-95: 100% 1/1 [00:00<00:00,  4.47it/s]\n",
            "                   all          9         28      0.498      0.287      0.377      0.147\n",
            "\n",
            "      Epoch    GPU_mem   box_loss   obj_loss   cls_loss  Instances       Size\n",
            "       2/19      3.51G    0.06369    0.04016    0.02005          5        640: 100% 31/31 [00:07<00:00,  4.36it/s]\n",
            "                 Class     Images  Instances          P          R      mAP50   mAP50-95: 100% 1/1 [00:00<00:00,  4.18it/s]\n",
            "                   all          9         28      0.307      0.308      0.319       0.15\n",
            "\n",
            "      Epoch    GPU_mem   box_loss   obj_loss   cls_loss  Instances       Size\n",
            "       3/19      3.51G    0.06243    0.03679    0.01547          3        640: 100% 31/31 [00:08<00:00,  3.51it/s]\n",
            "                 Class     Images  Instances          P          R      mAP50   mAP50-95: 100% 1/1 [00:00<00:00,  4.41it/s]\n",
            "                   all          9         28      0.457      0.496      0.471      0.198\n",
            "\n",
            "      Epoch    GPU_mem   box_loss   obj_loss   cls_loss  Instances       Size\n",
            "       4/19      3.51G    0.05504    0.03635    0.01383          8        640: 100% 31/31 [00:08<00:00,  3.61it/s]\n",
            "                 Class     Images  Instances          P          R      mAP50   mAP50-95: 100% 1/1 [00:00<00:00,  4.00it/s]\n",
            "                   all          9         28      0.669        0.6      0.716      0.336\n",
            "\n",
            "      Epoch    GPU_mem   box_loss   obj_loss   cls_loss  Instances       Size\n",
            "       5/19      3.51G    0.05134    0.03618    0.01209         11        640: 100% 31/31 [00:07<00:00,  4.22it/s]\n",
            "                 Class     Images  Instances          P          R      mAP50   mAP50-95: 100% 1/1 [00:00<00:00,  5.66it/s]\n",
            "                   all          9         28      0.617      0.742       0.78      0.435\n",
            "\n",
            "      Epoch    GPU_mem   box_loss   obj_loss   cls_loss  Instances       Size\n",
            "       6/19      3.51G    0.04766    0.03298    0.01076          1        640: 100% 31/31 [00:08<00:00,  3.54it/s]\n",
            "                 Class     Images  Instances          P          R      mAP50   mAP50-95: 100% 1/1 [00:00<00:00,  4.71it/s]\n",
            "                   all          9         28      0.811      0.803      0.845      0.488\n",
            "\n",
            "      Epoch    GPU_mem   box_loss   obj_loss   cls_loss  Instances       Size\n",
            "       7/19      3.51G     0.0491    0.03391   0.009223          7        640: 100% 31/31 [00:08<00:00,  3.77it/s]\n",
            "                 Class     Images  Instances          P          R      mAP50   mAP50-95: 100% 1/1 [00:00<00:00,  2.37it/s]\n",
            "                   all          9         28      0.767      0.849       0.85      0.492\n",
            "\n",
            "      Epoch    GPU_mem   box_loss   obj_loss   cls_loss  Instances       Size\n",
            "       8/19      3.51G    0.04404     0.0325   0.007957          2        640: 100% 31/31 [00:07<00:00,  4.31it/s]\n",
            "                 Class     Images  Instances          P          R      mAP50   mAP50-95: 100% 1/1 [00:00<00:00,  3.85it/s]\n",
            "                   all          9         28      0.917      0.943      0.963      0.517\n",
            "\n",
            "      Epoch    GPU_mem   box_loss   obj_loss   cls_loss  Instances       Size\n",
            "       9/19      3.51G    0.04226    0.03165   0.008403          2        640: 100% 31/31 [00:08<00:00,  3.54it/s]\n",
            "                 Class     Images  Instances          P          R      mAP50   mAP50-95: 100% 1/1 [00:00<00:00,  4.51it/s]\n",
            "                   all          9         28      0.907      0.965      0.958      0.595\n",
            "\n",
            "      Epoch    GPU_mem   box_loss   obj_loss   cls_loss  Instances       Size\n",
            "      10/19      3.51G    0.04018     0.0328   0.008043          2        640: 100% 31/31 [00:08<00:00,  3.86it/s]\n",
            "                 Class     Images  Instances          P          R      mAP50   mAP50-95: 100% 1/1 [00:00<00:00,  2.94it/s]\n",
            "                   all          9         28      0.923      0.881      0.942      0.612\n",
            "\n",
            "      Epoch    GPU_mem   box_loss   obj_loss   cls_loss  Instances       Size\n",
            "      11/19      3.51G    0.03944    0.03256    0.00779          7        640: 100% 31/31 [00:07<00:00,  4.27it/s]\n",
            "                 Class     Images  Instances          P          R      mAP50   mAP50-95: 100% 1/1 [00:00<00:00,  6.18it/s]\n",
            "                   all          9         28      0.959       0.89      0.952      0.601\n",
            "\n",
            "      Epoch    GPU_mem   box_loss   obj_loss   cls_loss  Instances       Size\n",
            "      12/19      3.51G    0.03729    0.03002   0.007304          1        640: 100% 31/31 [00:08<00:00,  3.62it/s]\n",
            "                 Class     Images  Instances          P          R      mAP50   mAP50-95: 100% 1/1 [00:00<00:00,  5.42it/s]\n",
            "                   all          9         28      0.973       0.94       0.97      0.612\n",
            "\n",
            "      Epoch    GPU_mem   box_loss   obj_loss   cls_loss  Instances       Size\n",
            "      13/19      3.51G    0.03783    0.03097   0.006428          3        640: 100% 31/31 [00:07<00:00,  4.29it/s]\n",
            "                 Class     Images  Instances          P          R      mAP50   mAP50-95: 100% 1/1 [00:00<00:00,  2.91it/s]\n",
            "                   all          9         28      0.959      0.842      0.955      0.553\n",
            "\n",
            "      Epoch    GPU_mem   box_loss   obj_loss   cls_loss  Instances       Size\n",
            "      14/19      3.51G    0.03588    0.03027     0.0064          1        640: 100% 31/31 [00:07<00:00,  3.90it/s]\n",
            "                 Class     Images  Instances          P          R      mAP50   mAP50-95: 100% 1/1 [00:00<00:00,  4.84it/s]\n",
            "                   all          9         28      0.952      0.925      0.967       0.57\n",
            "\n",
            "      Epoch    GPU_mem   box_loss   obj_loss   cls_loss  Instances       Size\n",
            "      15/19      3.51G    0.03547    0.03008   0.005883          5        640: 100% 31/31 [00:08<00:00,  3.59it/s]\n",
            "                 Class     Images  Instances          P          R      mAP50   mAP50-95: 100% 1/1 [00:00<00:00,  5.13it/s]\n",
            "                   all          9         28      0.928      0.943      0.982       0.64\n",
            "\n",
            "      Epoch    GPU_mem   box_loss   obj_loss   cls_loss  Instances       Size\n",
            "      16/19      3.51G    0.03575    0.03061   0.005634          8        640: 100% 31/31 [00:07<00:00,  4.28it/s]\n",
            "                 Class     Images  Instances          P          R      mAP50   mAP50-95: 100% 1/1 [00:00<00:00,  4.04it/s]\n",
            "                   all          9         28      0.965      0.903      0.983      0.619\n",
            "\n",
            "      Epoch    GPU_mem   box_loss   obj_loss   cls_loss  Instances       Size\n",
            "      17/19      3.51G    0.03375    0.02814   0.005887          2        640: 100% 31/31 [00:08<00:00,  3.52it/s]\n",
            "                 Class     Images  Instances          P          R      mAP50   mAP50-95: 100% 1/1 [00:00<00:00,  5.28it/s]\n",
            "                   all          9         28      0.941      0.967      0.985      0.647\n",
            "\n",
            "      Epoch    GPU_mem   box_loss   obj_loss   cls_loss  Instances       Size\n",
            "      18/19      3.51G    0.03258    0.02783   0.005897          3        640: 100% 31/31 [00:08<00:00,  3.67it/s]\n",
            "                 Class     Images  Instances          P          R      mAP50   mAP50-95: 100% 1/1 [00:00<00:00,  2.49it/s]\n",
            "                   all          9         28      0.987      0.937      0.987      0.644\n",
            "\n",
            "      Epoch    GPU_mem   box_loss   obj_loss   cls_loss  Instances       Size\n",
            "      19/19      3.51G    0.03176    0.02806   0.005989          4        640: 100% 31/31 [00:07<00:00,  4.29it/s]\n",
            "                 Class     Images  Instances          P          R      mAP50   mAP50-95: 100% 1/1 [00:00<00:00,  3.97it/s]\n",
            "                   all          9         28      0.987      0.999      0.995      0.681\n",
            "\n",
            "20 epochs completed in 0.052 hours.\n",
            "Optimizer stripped from runs/train/exp2/weights/last.pt, 14.5MB\n",
            "Optimizer stripped from runs/train/exp2/weights/best.pt, 14.5MB\n",
            "\n",
            "Validating runs/train/exp2/weights/best.pt...\n",
            "Fusing layers... \n",
            "Model summary: 157 layers, 7020913 parameters, 0 gradients, 15.8 GFLOPs\n",
            "                 Class     Images  Instances          P          R      mAP50   mAP50-95: 100% 1/1 [00:00<00:00,  8.06it/s]\n",
            "                   all          9         28      0.987      0.999      0.995      0.681\n",
            "                p_head          9         10          1      0.996      0.995      0.715\n",
            "                person          9          8      0.986          1      0.995      0.679\n",
            "                weapon          9         10      0.976          1      0.995       0.65\n",
            "Results saved to \u001b[1mruns/train/exp2\u001b[0m\n"
          ]
        }
      ]
    },
    {
      "cell_type": "markdown",
      "metadata": {
        "id": "IEijrePND_2I"
      },
      "source": [
        "# Appendix\n",
        "\n",
        "Additional content below."
      ]
    },
    {
      "cell_type": "code",
      "metadata": {
        "id": "GMusP4OAxFu6"
      },
      "source": [
        "# YOLOv5 PyTorch HUB Inference (DetectionModels only)\n",
        "import torch\n",
        "\n",
        "model = torch.hub.load('ultralytics/yolov5', 'yolov5s', force_reload=True)  # yolov5n - yolov5x6 or custom\n",
        "im = 'https://ultralytics.com/images/zidane.jpg'  # file, Path, PIL.Image, OpenCV, nparray, list\n",
        "results = model(im)  # inference\n",
        "results.print()  # or .show(), .save(), .crop(), .pandas(), etc."
      ],
      "execution_count": null,
      "outputs": []
    }
  ]
}